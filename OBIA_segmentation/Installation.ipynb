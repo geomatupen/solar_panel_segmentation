{
 "cells": [
  {
   "cell_type": "code",
   "execution_count": null,
   "id": "5fdac3e6-ef49-4a24-be01-7000ea4df619",
   "metadata": {},
   "outputs": [],
   "source": [
    "# conda create -n obia_solar python=3.10 -y\n",
    "# conda activate obia_solar\n"
   ]
  },
  {
   "cell_type": "code",
   "execution_count": null,
   "id": "5fc61049-49c4-445c-8b54-e8ad274f66ee",
   "metadata": {},
   "outputs": [],
   "source": [
    "# pip install numpy==1.26.4\n",
    "# pip install pandas matplotlib scikit-image scikit-learn opencv-python rasterio geopandas shapely\n",
    "# pip install nickyspatial==0.2.1"
   ]
  },
  {
   "cell_type": "code",
   "execution_count": null,
   "id": "a1849e7e-f597-4a5e-ad5b-d6cfe68e387d",
   "metadata": {},
   "outputs": [],
   "source": [
    "# pip install ipykernel\n",
    "# python -m ipykernel install --user --name obia_solar --display-name \"OBIA Solar\"\n",
    "\n",
    "\n"
   ]
  },
  {
   "cell_type": "code",
   "execution_count": null,
   "id": "c55cc5dc-49ce-4155-9e87-b0207519692d",
   "metadata": {},
   "outputs": [],
   "source": [
    "# gdal2tiles\n",
    "# conda create -n gdaltiles -c conda-forge gdal=3.10 python=3.10\n",
    "# conda activate gdaltiles\n",
    "\n",
    "# go to the folder where orthophoto is located\n",
    "# gdal2tiles -z 17-21 -w leaflet small_area_downsampled.tif small_area_tiles/\n",
    "\n",
    "# go to folder inside small_area_tiles\n",
    "# cd small_area_tiles\n",
    "# python -m http.server 8000\n",
    "\n",
    "# http://localhost:8000/"
   ]
  },
  {
   "cell_type": "code",
   "execution_count": null,
   "id": "d8273254-0dbd-4eaa-bc7f-4f2d60515ff0",
   "metadata": {},
   "outputs": [],
   "source": []
  },
  {
   "cell_type": "code",
   "execution_count": null,
   "id": "54a078a2-a4fd-4d66-bd58-ac151725514f",
   "metadata": {},
   "outputs": [],
   "source": [
    "#for checking nickyspatial on local/git\n",
    "# pip uninstall nickyspatial\n",
    "\n",
    "# option 1 git: pip install git+https://github.com/kshitijrajsharma/nickyspatial.git\n",
    "\n",
    "# option 2 local:\n",
    "# git clone https://github.com/kshitijrajsharma/nickyspatial.git\n",
    "# cd <repo-name>\n",
    "# pip install -e .\n",
    "# or for me my nickyspatial package code was in wsl, but jupyter notebook in windows\n",
    "# pip install -e \"\\\\wsl.localhost\\Ubuntu\\home\\upen\\projects\\nickyspatial\"\n",
    "\n"
   ]
  }
 ],
 "metadata": {
  "kernelspec": {
   "display_name": "OBIA Solar",
   "language": "python",
   "name": "obia_solar"
  },
  "language_info": {
   "codemirror_mode": {
    "name": "ipython",
    "version": 3
   },
   "file_extension": ".py",
   "mimetype": "text/x-python",
   "name": "python",
   "nbconvert_exporter": "python",
   "pygments_lexer": "ipython3",
   "version": "3.10.18"
  }
 },
 "nbformat": 4,
 "nbformat_minor": 5
}
